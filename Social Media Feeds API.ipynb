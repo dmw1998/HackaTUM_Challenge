{
 "cells": [
  {
   "cell_type": "code",
   "execution_count": 1,
   "id": "69a933d1-f65e-414a-9a4b-5f803d1d11e6",
   "metadata": {},
   "outputs": [],
   "source": [
    "import datetime as dt\n",
    "import time\n",
    "import logging\n",
    "from stock_sentiment_analysis import analyze_sentiment_and_stock\n",
    "\n",
    "from optibook.synchronous_client import Exchange\n",
    "from optibook.common_types import SocialMediaFeed\n",
    "logging.getLogger('client').setLevel('ERROR')    "
   ]
  },
  {
   "cell_type": "code",
   "execution_count": 2,
   "id": "74e071e1-bf72-4cee-8d59-a01212bceb0f",
   "metadata": {},
   "outputs": [
    {
     "name": "stderr",
     "output_type": "stream",
     "text": [
      "2023-11-18 14:48:16,314 [asyncio   ] [MainThread  ] Using selector: EpollSelector\n"
     ]
    }
   ],
   "source": [
    "exchange = Exchange()\n",
    "exchange.connect()"
   ]
  },
  {
   "cell_type": "code",
   "execution_count": 3,
   "id": "eaaf4b90-89c0-465d-a1ad-9fae4a1fbaab",
   "metadata": {},
   "outputs": [],
   "source": [
    "# help(exchange.poll_new_social_media_feeds)"
   ]
  },
  {
   "cell_type": "code",
   "execution_count": 4,
   "id": "be20c022-7dfa-415a-b17f-c2ac76cf4cf6",
   "metadata": {},
   "outputs": [],
   "source": [
    "# help(exchange.get_social_media_feeds_history)"
   ]
  },
  {
   "cell_type": "code",
   "execution_count": 5,
   "id": "297c9188-3cae-4e39-b8dd-460609330b63",
   "metadata": {},
   "outputs": [],
   "source": [
    "# help(SocialMediaFeed)"
   ]
  },
  {
   "cell_type": "code",
   "execution_count": 6,
   "id": "46df9371-ec0f-45fb-b2b8-9eb31bb2e3e8",
   "metadata": {},
   "outputs": [
    {
     "name": "stdout",
     "output_type": "stream",
     "text": [
      "2023-11-18 14:48:16.464401: no new messages\n",
      "2023-11-18 14:48:17.649683: @TechReport: Nvidia faces stiff competition from emerging tech giants. #Competition #TechGiants\n",
      "['NVDA', 'NVDA_B']\n",
      "2023-11-18 14:48:26.464332: no new messages\n"
     ]
    },
    {
     "ename": "KeyboardInterrupt",
     "evalue": "",
     "output_type": "error",
     "traceback": [
      "\u001b[0;31m---------------------------------------------------------------------------\u001b[0m",
      "\u001b[0;31mKeyboardInterrupt\u001b[0m                         Traceback (most recent call last)",
      "\u001b[0;32m<ipython-input-6-53c278a26208>\u001b[0m in \u001b[0;36m<module>\u001b[0;34m\u001b[0m\n\u001b[1;32m     12\u001b[0m             \u001b[0mdetected_company_listed\u001b[0m \u001b[0;34m=\u001b[0m \u001b[0;34m[\u001b[0m\u001b[0mdetected_company\u001b[0m\u001b[0;34m,\u001b[0m \u001b[0mdetected_company\u001b[0m\u001b[0;34m+\u001b[0m\u001b[0;34m'_B'\u001b[0m\u001b[0;34m]\u001b[0m\u001b[0;34m\u001b[0m\u001b[0;34m\u001b[0m\u001b[0m\n\u001b[1;32m     13\u001b[0m             \u001b[0mprint\u001b[0m\u001b[0;34m(\u001b[0m\u001b[0mdetected_company_listed\u001b[0m\u001b[0;34m)\u001b[0m\u001b[0;34m\u001b[0m\u001b[0;34m\u001b[0m\u001b[0m\n\u001b[0;32m---> 14\u001b[0;31m     \u001b[0mtime\u001b[0m\u001b[0;34m.\u001b[0m\u001b[0msleep\u001b[0m\u001b[0;34m(\u001b[0m\u001b[0;36m3\u001b[0m\u001b[0;34m)\u001b[0m\u001b[0;34m\u001b[0m\u001b[0;34m\u001b[0m\u001b[0m\n\u001b[0m",
      "\u001b[0;31mKeyboardInterrupt\u001b[0m: "
     ]
    }
   ],
   "source": [
    "while True:\n",
    "    social_feeds = exchange.poll_new_social_media_feeds()\n",
    "    \n",
    "    if not social_feeds:\n",
    "        print(f'{dt.datetime.now()}: no new messages')\n",
    "        adjusted_output = 0.0\n",
    "    else:\n",
    "        for feed in social_feeds:\n",
    "            text = feed.post\n",
    "            print(f'{feed.timestamp}: {feed.post}')\n",
    "            detected_company, predicted_sentiment, sentiment_score, adjusted_output = analyze_sentiment_and_stock(text)\n",
    "            detected_company_listed = [detected_company, detected_company+'_B']\n",
    "            print(detected_company_listed)\n",
    "    time.sleep(3)"
   ]
  },
  {
   "cell_type": "code",
   "execution_count": null,
   "id": "3fea5a34-9946-4b38-8884-1d3a26b8e5ea",
   "metadata": {},
   "outputs": [],
   "source": []
  }
 ],
 "metadata": {
  "kernelspec": {
   "display_name": "Python 3",
   "language": "python",
   "name": "python3"
  },
  "language_info": {
   "codemirror_mode": {
    "name": "ipython",
    "version": 3
   },
   "file_extension": ".py",
   "mimetype": "text/x-python",
   "name": "python",
   "nbconvert_exporter": "python",
   "pygments_lexer": "ipython3",
   "version": "3.6.12"
  }
 },
 "nbformat": 4,
 "nbformat_minor": 5
}
